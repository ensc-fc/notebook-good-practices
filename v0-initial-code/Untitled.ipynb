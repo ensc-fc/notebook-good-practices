{
 "cells": [
  {
   "cell_type": "code",
   "execution_count": null,
   "metadata": {},
   "outputs": [],
   "source": [
    "import numpy as np\n",
    "import pandas as pd\n",
    "import matplotlib.pyplot as plt"
   ]
  },
  {
   "cell_type": "code",
   "execution_count": null,
   "metadata": {},
   "outputs": [],
   "source": [
    "from sklearn.model_selection import train_test_split\n",
    "from sklearn.preprocessing import OneHotEncoder, StandardScaler\n",
    "import csv\n",
    "\n",
    "iris = []\n",
    "with open(\"iris.csv\", \"r\") as f:\n",
    "    for row in csv.DictReader(f):\n",
    "        iris.append(row)"
   ]
  },
  {
   "cell_type": "code",
   "execution_count": null,
   "metadata": {},
   "outputs": [],
   "source": [
    "y_col = \"class\"\n",
    "\n",
    "# feature_names = [\"sepal_len\", \"petal_len\", \"sepal_width\", \"petal_width\"]\n",
    "feature_names = []\n",
    "for col in iris[0].keys():\n",
    "    if col not in y_col:\n",
    "        feature_names.append(col)\n",
    "\n",
    "class_names = []\n",
    "for row in iris:\n",
    "    if row[y_col] not in class_names:\n",
    "        class_names.append(row[y_col])\n",
    "\n",
    "x = []\n",
    "for row in iris:\n",
    "    r = []\n",
    "    for feature in feature_names:\n",
    "        r.append(float(row[feature]))\n",
    "    x.append(r)\n",
    "x = np.array(x)\n",
    "\n",
    "y = []\n",
    "for row in iris:\n",
    "    name = row[y_col]\n",
    "    if name == \"Iris-virginica\":\n",
    "        y.append(0)\n",
    "    elif name == \"Iris-versicolor\":\n",
    "        y.append(1)\n",
    "    elif name == \"Iris-setosa\":\n",
    "        y.append(2)\n",
    "\n",
    "y = np.array(y)"
   ]
  },
  {
   "cell_type": "code",
   "execution_count": null,
   "metadata": {},
   "outputs": [],
   "source": [
    "enc = OneHotEncoder()\n",
    "y_encoded = enc.fit_transform(y[:, np.newaxis]).toarray()\n",
    "\n",
    "scaler = StandardScaler()\n",
    "x_scaled = scaler.fit_transform(x)\n",
    "\n",
    "# Split the data set into training and testing\n",
    "x_train, x_test, y_train, y_test = train_test_split(\n",
    "    x_scaled, y_encoded, test_size=0.3, random_state=2)\n",
    "\n",
    "n_features = x.shape[1]\n",
    "n_classes = y_encoded.shape[1]"
   ]
  },
  {
   "cell_type": "code",
   "execution_count": null,
   "metadata": {},
   "outputs": [],
   "source": [
    "plt.figure(figsize=(16, 6))\n",
    "plt.subplot(1, 2, 1)\n",
    "for target, target_name in enumerate(class_names):\n",
    "    x_plot = x[y == target]\n",
    "    plt.plot(x_plot[:, 0], x_plot[:, 1], linestyle='none', marker='o', label=target_name)\n",
    "plt.xlabel(feature_names[0])\n",
    "plt.ylabel(feature_names[1])\n",
    "plt.axis('equal');\n",
    "\n",
    "plt.subplot(1, 2, 2)\n",
    "for target, target_name in enumerate(class_names):\n",
    "    print(target)\n",
    "    x_plot = x[y == target]\n",
    "    plt.plot(x_plot[:, 2], x_plot[:, 3], linestyle='none', marker='o', label=target_name)\n",
    "plt.xlabel(feature_names[2])\n",
    "plt.ylabel(feature_names[3])\n",
    "plt.axis('equal');"
   ]
  },
  {
   "cell_type": "code",
   "execution_count": null,
   "metadata": {},
   "outputs": [],
   "source": [
    "from tensorflow.keras.models import Sequential\n",
    "from tensorflow.keras.layers import Dense\n",
    "\n",
    "model1 = Sequential(name=\"model_1\")\n",
    "for i in range(1):\n",
    "    model1.add(Dense(8, input_dim=n_features, activation='relu'))\n",
    "model1.add(Dense(n_classes, activation='softmax'))\n",
    "\n",
    "model1.compile(loss='categorical_crossentropy', \n",
    "              optimizer='adam', \n",
    "              metrics=['accuracy'])\n",
    "\n",
    "model2 = Sequential(name=\"model_2\")\n",
    "for i in range(2):\n",
    "    model2.add(Dense(8, input_dim=n_features, activation='relu'))\n",
    "model2.add(Dense(n_classes, activation='softmax'))\n",
    "\n",
    "model2.compile(loss='categorical_crossentropy', \n",
    "              optimizer='adam', \n",
    "              metrics=['accuracy'])\n",
    "\n",
    "model3 = Sequential(name=\"model_3\")\n",
    "for i in range(3):\n",
    "    model3.add(Dense(8, input_dim=n_features, activation='relu'))\n",
    "model3.add(Dense(n_classes, activation='softmax'))\n",
    "\n",
    "model3.compile(loss='categorical_crossentropy', \n",
    "              optimizer='adam', \n",
    "              metrics=['accuracy'])\n",
    "\n",
    "models = [model1, model2, model3]\n",
    "\n",
    "for i in range(len(models)):\n",
    "    models[i].summary()"
   ]
  },
  {
   "cell_type": "code",
   "execution_count": null,
   "metadata": {},
   "outputs": [],
   "source": [
    "history_dict = {}\n",
    "\n",
    "for model in models:\n",
    "    print('Model name:', model.name)\n",
    "    history = model.fit(x_train, y_train,\n",
    "                                 batch_size=5,\n",
    "                                 epochs=50,\n",
    "                                 verbose=0,\n",
    "                                 validation_data=(x_test, y_test))\n",
    "    score = model.evaluate(x_test, y_test, verbose=0)\n",
    "    print('Test loss:', score[0])\n",
    "    print('Test accuracy:', score[1])\n",
    "    \n",
    "    history_dict[model.name] = [history, model]"
   ]
  },
  {
   "cell_type": "code",
   "execution_count": null,
   "metadata": {},
   "outputs": [],
   "source": [
    "fig, (ax1, ax2) = plt.subplots(2, figsize=(8, 6))\n",
    "\n",
    "for model_name in history_dict:\n",
    "    val_accurady = history_dict[model_name][0].history['val_accuracy']\n",
    "    val_loss = history_dict[model_name][0].history['val_loss']\n",
    "    ax1.plot(val_accurady, label=model_name)\n",
    "    ax2.plot(val_loss, label=model_name)\n",
    "    \n",
    "ax1.set_ylabel('validation accuracy')\n",
    "ax2.set_ylabel('validation loss')\n",
    "ax2.set_xlabel('epochs');"
   ]
  },
  {
   "cell_type": "code",
   "execution_count": null,
   "metadata": {},
   "outputs": [],
   "source": [
    "from sklearn.metrics import roc_curve, auc\n",
    "\n",
    "plt.figure(figsize=(10, 10))\n",
    "plt.plot([0, 1], [0, 1], 'k--')\n",
    "\n",
    "for model_name in history_dict:\n",
    "    model = history_dict[model_name][1]\n",
    "    \n",
    "    y_pred = model.predict(x_test)\n",
    "    fpr, tpr, threshold = roc_curve(y_test.ravel(), y_pred.ravel())\n",
    "    \n",
    "    plt.plot(fpr, tpr, label='{}, AUC = {:.3f}'.format(model_name, auc(fpr, tpr)))\n",
    "plt.xlabel('False positive rate')\n",
    "plt.ylabel('True positive rate');"
   ]
  },
  {
   "cell_type": "code",
   "execution_count": null,
   "metadata": {},
   "outputs": [],
   "source": []
  }
 ],
 "metadata": {
  "kernelspec": {
   "display_name": "Python 3 (ipykernel)",
   "language": "python",
   "name": "python3"
  },
  "language_info": {
   "codemirror_mode": {
    "name": "ipython",
    "version": 3
   },
   "file_extension": ".py",
   "mimetype": "text/x-python",
   "name": "python",
   "nbconvert_exporter": "python",
   "pygments_lexer": "ipython3",
   "version": "3.7.3"
  }
 },
 "nbformat": 4,
 "nbformat_minor": 4
}
